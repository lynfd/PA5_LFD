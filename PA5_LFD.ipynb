{
 "cells": [
  {
   "cell_type": "markdown",
   "id": "d2a5e21a",
   "metadata": {},
   "source": [
    "# Programming Assignment 5\n",
    "### Lyn Detwiler, CS-150-01, Version 3.3.2"
   ]
  },
  {
   "cell_type": "code",
   "execution_count": 2,
   "id": "58707881",
   "metadata": {},
   "outputs": [
    {
     "name": "stdout",
     "output_type": "stream",
     "text": [
      "Enter the value of h: 4\n",
      "Enter the value of a: 8\n",
      "Enter the value of b: 6\n",
      "Enter the value of c: 7\n",
      "The area of the triangle is 12\n",
      "The perimeter of the triangle is 21\n"
     ]
    }
   ],
   "source": [
    "def calcarea(h,a,b,c):\n",
    "    return h*b*1/2\n",
    "def calcperi(h,a,b,c):\n",
    "    return a+b+c\n",
    "h=int(input(\"Enter the value of h: \"))\n",
    "a=int(input(\"Enter the value of a: \"))\n",
    "b=int(input(\"Enter the value of b: \"))\n",
    "c=int(input(\"Enter the value of c: \"))\n",
    "print(\"The area of the triangle is\",round(calcarea(h,a,b,c)))\n",
    "print(\"The perimeter of the triangle is\",round(calcperi(h,a,b,c)))"
   ]
  },
  {
   "cell_type": "code",
   "execution_count": 1,
   "id": "55306ff7",
   "metadata": {},
   "outputs": [
    {
     "name": "stdout",
     "output_type": "stream",
     "text": [
      "Enter a number between 1 and 1000. 900\n",
      "Too high- try again.\n",
      "Enter a number between 1 and 1000. 800\n",
      "Too high- try again.\n",
      "Enter a number between 1 and 1000. 500\n",
      "Too high- try again.\n",
      "Enter a number between 1 and 1000. 200\n",
      "Too low, try again.\n",
      "Enter a number between 1 and 1000. 300\n",
      "Too low, try again.\n",
      "Enter a number between 1 and 1000. 400\n",
      "Too low, try again.\n",
      "Enter a number between 1 and 1000. 450\n",
      "Too low, try again.\n",
      "Enter a number between 1 and 1000. 475\n",
      "Too high- try again.\n",
      "Enter a number between 1 and 1000. 460\n",
      "Too low, try again.\n",
      "Enter a number between 1 and 1000. 465\n",
      "Too low, try again.\n",
      "Enter a number between 1 and 1000. 466\n",
      "Too low, try again.\n",
      "Enter a number between 1 and 1000. 467\n",
      "Too low, try again.\n",
      "Enter a number between 1 and 1000. 468\n",
      "Too low, try again.\n",
      "Enter a number between 1 and 1000. 469\n",
      "Too low, try again.\n",
      "Enter a number between 1 and 1000. 470\n",
      "Too low, try again.\n",
      "Enter a number between 1 and 1000. 471\n",
      "You won! It took you 15 chances.\n"
     ]
    }
   ],
   "source": [
    "import random\n",
    "number=random.randint(1,1000)\n",
    "entered_number=None\n",
    "time=0\n",
    "\n",
    "while entered_number!=number:\n",
    "    entered_number=int(input(\"Enter a number between 1 and 1000. \"))\n",
    "    \n",
    "    if entered_number==number:\n",
    "        print(\"You won! It took you\",time,\"chances.\")\n",
    "    elif entered_number>number:\n",
    "        print(\"Too high- try again.\")\n",
    "        time=time+1\n",
    "    else:\n",
    "        print(\"Too low, try again.\")\n",
    "        time=time+1"
   ]
  },
  {
   "cell_type": "code",
   "execution_count": 6,
   "id": "d60e0512",
   "metadata": {},
   "outputs": [
    {
     "name": "stdout",
     "output_type": "stream",
     "text": [
      "The mean temperature for the past 6 days is 64.5 degrees.\n",
      "The mean temperature for the past 3 days is 30.0 degrees.\n"
     ]
    }
   ],
   "source": [
    "def meanTemp(*temps):\n",
    "    return print(\"The mean temperature for the past\", len(temps),\"days is\",sum(temps)/len(temps),\"degrees.\")\n",
    "meanTemp(50,70,60,68,69,70)\n",
    "meanTemp(20,30,40)"
   ]
  },
  {
   "cell_type": "code",
   "execution_count": null,
   "id": "88960ebf",
   "metadata": {},
   "outputs": [],
   "source": []
  }
 ],
 "metadata": {
  "kernelspec": {
   "display_name": "Python 3 (ipykernel)",
   "language": "python",
   "name": "python3"
  },
  "language_info": {
   "codemirror_mode": {
    "name": "ipython",
    "version": 3
   },
   "file_extension": ".py",
   "mimetype": "text/x-python",
   "name": "python",
   "nbconvert_exporter": "python",
   "pygments_lexer": "ipython3",
   "version": "3.9.12"
  }
 },
 "nbformat": 4,
 "nbformat_minor": 5
}
